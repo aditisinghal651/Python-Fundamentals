{
 "cells": [
  {
   "cell_type": "markdown",
   "id": "487a0be5",
   "metadata": {},
   "source": [
    "## Functions\n",
    "\n",
    "It is a block of code that performs a specific task. Functions help in organizing code, reusing code, and improving readability."
   ]
  },
  {
   "cell_type": "code",
   "execution_count": 1,
   "id": "68606068",
   "metadata": {},
   "outputs": [],
   "source": [
    "def function_name(parameters):\n",
    "    \"\"\"Docstring for function_name.\"\"\"\n",
    "    # Function implementation goes here\n",
    "    return expression"
   ]
  },
  {
   "cell_type": "markdown",
   "id": "7e13dc62",
   "metadata": {},
   "source": []
  },
  {
   "cell_type": "code",
   "execution_count": 2,
   "id": "75b4e0b0",
   "metadata": {},
   "outputs": [],
   "source": [
    "def even_or_odd(number):\n",
    "    \"\"\"Check if a number is even or odd.\"\"\"\n",
    "    if number % 2 == 0:\n",
    "        return \"Even\"\n",
    "    else:\n",
    "        return \"Odd\""
   ]
  },
  {
   "cell_type": "code",
   "execution_count": 3,
   "id": "5ab5c095",
   "metadata": {},
   "outputs": [
    {
     "name": "stdout",
     "output_type": "stream",
     "text": [
      "The number is Even.\n"
     ]
    }
   ],
   "source": [
    "## Call the function\n",
    "result = even_or_odd(10)\n",
    "print(f\"The number is {result}.\")\n"
   ]
  },
  {
   "cell_type": "code",
   "execution_count": 4,
   "id": "eda07028",
   "metadata": {},
   "outputs": [],
   "source": [
    "## Function with multiple parameters\n",
    "def add_numbers(a, b):\n",
    "    \"\"\"Add two numbers.\"\"\"\n",
    "    return a + b"
   ]
  },
  {
   "cell_type": "code",
   "execution_count": 7,
   "id": "e9c3ec31",
   "metadata": {},
   "outputs": [],
   "source": [
    "def add_numbers(a, b, c):\n",
    "    \"\"\"Add two numbers.\"\"\"\n",
    "    return a + b + c"
   ]
  },
  {
   "cell_type": "code",
   "execution_count": null,
   "id": "f5007259",
   "metadata": {},
   "outputs": [
    {
     "ename": "TypeError",
     "evalue": "add_numbers() missing 1 required positional argument: 'c'",
     "output_type": "error",
     "traceback": [
      "\u001b[31m---------------------------------------------------------------------------\u001b[39m",
      "\u001b[31mTypeError\u001b[39m                                 Traceback (most recent call last)",
      "\u001b[36mCell\u001b[39m\u001b[36m \u001b[39m\u001b[32mIn[8]\u001b[39m\u001b[32m, line 1\u001b[39m\n\u001b[32m----> \u001b[39m\u001b[32m1\u001b[39m \u001b[38;5;28mprint\u001b[39m(\u001b[43madd_numbers\u001b[49m\u001b[43m(\u001b[49m\u001b[32;43m5\u001b[39;49m\u001b[43m,\u001b[49m\u001b[43m \u001b[49m\u001b[32;43m3\u001b[39;49m\u001b[43m)\u001b[49m)\n",
      "\u001b[31mTypeError\u001b[39m: add_numbers() missing 1 required positional argument: 'c'"
     ]
    }
   ],
   "source": [
    "print(add_numbers(5, 3)) \n"
   ]
  },
  {
   "cell_type": "markdown",
   "id": "0b87ac5d",
   "metadata": {},
   "source": [
    "#### Learning from the above error: \n",
    "Different functions should have different name, irrespective of Java the function defination will not differentiate the functions"
   ]
  },
  {
   "cell_type": "code",
   "execution_count": 9,
   "id": "b1c2277b",
   "metadata": {},
   "outputs": [
    {
     "name": "stdout",
     "output_type": "stream",
     "text": [
      "Hello, Alice!\n",
      "Hi, Bob!\n"
     ]
    }
   ],
   "source": [
    "## default parameters\n",
    "def greet(name, greeting=\"Hello\"):\n",
    "    \"\"\"Greet a person with a default greeting.\"\"\"\n",
    "    return f\"{greeting}, {name}!\"\n",
    "\n",
    "print(greet(\"Alice\"))  # Uses default greeting\n",
    "print(greet(\"Bob\", \"Hi\"))  # Uses custom greeting"
   ]
  },
  {
   "cell_type": "markdown",
   "id": "6f6746c9",
   "metadata": {},
   "source": [
    "### Variable Length Arguments\n",
    "1. Positional Arguments\n",
    "\n",
    "2. Keyword Arguments - parameters will be in the form of key value pairs"
   ]
  },
  {
   "cell_type": "code",
   "execution_count": 12,
   "id": "5b16178f",
   "metadata": {},
   "outputs": [],
   "source": [
    "## Positional Args\n",
    "\n",
    "def print_numbers(*args):\n",
    "    \"\"\"Print all numbers passed as arguments.\"\"\"\n",
    "    for number in args:\n",
    "        print(number)"
   ]
  },
  {
   "cell_type": "code",
   "execution_count": 13,
   "id": "35b97855",
   "metadata": {},
   "outputs": [
    {
     "name": "stdout",
     "output_type": "stream",
     "text": [
      "1\n",
      "2\n",
      "3\n",
      "4\n",
      "5\n",
      "Aditi\n",
      "Arvind\n"
     ]
    }
   ],
   "source": [
    "print_numbers(1, 2, 3, 4, 5, \"Aditi\", \"Arvind\")  # Prints all numbers"
   ]
  },
  {
   "cell_type": "code",
   "execution_count": 14,
   "id": "c7a66841",
   "metadata": {},
   "outputs": [],
   "source": [
    "## Keyword Args\n",
    "\n",
    "def print_info(**kwargs):\n",
    "    \"\"\"Print all keyword arguments.\"\"\"\n",
    "    for key, value in kwargs.items():\n",
    "        print(f\"{key}: {value}\")"
   ]
  },
  {
   "cell_type": "code",
   "execution_count": 15,
   "id": "5ffaeaaa",
   "metadata": {},
   "outputs": [
    {
     "name": "stdout",
     "output_type": "stream",
     "text": [
      "name: Alice\n",
      "age: 30\n",
      "city: New York\n"
     ]
    }
   ],
   "source": [
    "print_info(name=\"Alice\", age=30, city=\"New York\")  # Prints all keyword arguments\n"
   ]
  },
  {
   "cell_type": "code",
   "execution_count": 17,
   "id": "e5fa0e8e",
   "metadata": {},
   "outputs": [
    {
     "name": "stdout",
     "output_type": "stream",
     "text": [
      "Positional arguments: (1, 2, 3)\n",
      "Keyword arguments: {'name': 'Alice', 'age': 30}\n"
     ]
    }
   ],
   "source": [
    "def arguments(*args, **kwargs):\n",
    "    \"\"\"Print all positional and keyword arguments.\"\"\"\n",
    "    print(\"Positional arguments:\", args)\n",
    "    print(\"Keyword arguments:\", kwargs)\n",
    "\n",
    "arguments(1, 2, 3, name=\"Alice\", age=30)  # Prints all arguments"
   ]
  },
  {
   "cell_type": "code",
   "execution_count": 18,
   "id": "240f972c",
   "metadata": {},
   "outputs": [
    {
     "name": "stdout",
     "output_type": "stream",
     "text": [
      "Positional Arguments : 1\n",
      "Positional Arguments : 2\n",
      "Positional Arguments : 3\n",
      "Keyword Arguments : name = Alice\n",
      "Keyword Arguments : age = 30\n"
     ]
    }
   ],
   "source": [
    "def arguments1(*args, **kwargs):\n",
    "    \"\"\"Print all positional and keyword arguments.\"\"\"\n",
    "    for val in args:\n",
    "        print(f\"Positional Arguments : {val}\")\n",
    "\n",
    "    for key, val in kwargs.items():\n",
    "        print(f\"Keyword Arguments : {key} = {val}\")\n",
    "\n",
    "\n",
    "arguments1(1, 2, 3, name=\"Alice\", age=30)  # Prints all arguments"
   ]
  },
  {
   "cell_type": "code",
   "execution_count": 20,
   "id": "72e8099f",
   "metadata": {},
   "outputs": [
    {
     "name": "stdout",
     "output_type": "stream",
     "text": [
      "The result is (15, 5).\n"
     ]
    }
   ],
   "source": [
    "## Return Statement\n",
    "def multiply(a, b):\n",
    "    \"\"\"Multiply two numbers.\"\"\"\n",
    "    return a * b, a\n",
    "\n",
    "result = multiply(5, 3)\n",
    "print(f\"The result is {result}.\")  # Prints the result of multiplication"
   ]
  },
  {
   "cell_type": "markdown",
   "id": "cf262e8f",
   "metadata": {},
   "source": [
    "## Function Example\n",
    "\n",
    "Example 1: Temperature Conversion\n",
    "\n",
    "Example 2: Password Strength Checker\n",
    "\n",
    "Example 3: Calculate the Total Cost of Items In a Shopping Cart\n",
    "\n",
    "Example 4: Check IF a STring is PAlindrome\n",
    "\n",
    "Example 5: Calculate the factorials of a number using recursion"
   ]
  },
  {
   "cell_type": "code",
   "execution_count": null,
   "id": "e0ce1ab8",
   "metadata": {},
   "outputs": [],
   "source": []
  }
 ],
 "metadata": {
  "kernelspec": {
   "display_name": "Python 3",
   "language": "python",
   "name": "python3"
  },
  "language_info": {
   "codemirror_mode": {
    "name": "ipython",
    "version": 3
   },
   "file_extension": ".py",
   "mimetype": "text/x-python",
   "name": "python",
   "nbconvert_exporter": "python",
   "pygments_lexer": "ipython3",
   "version": "3.12.0"
  }
 },
 "nbformat": 4,
 "nbformat_minor": 5
}
