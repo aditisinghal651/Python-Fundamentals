{
 "cells": [
  {
   "cell_type": "markdown",
   "id": "4f2129d5",
   "metadata": {},
   "source": [
    "## File Operation-Read and Write Files\n",
    "\n",
    "File handling is a crucial part of any programming language. \n",
    "\n",
    "Python provides built-in functions and methods to read from and write to files, both text and binary.\n",
    "\n"
   ]
  },
  {
   "cell_type": "code",
   "execution_count": 4,
   "id": "1b05a011",
   "metadata": {},
   "outputs": [
    {
     "name": "stdout",
     "output_type": "stream",
     "text": [
      "Hi, This is an example file. To read the content of this file.\n",
      "Happy Learning!!\n",
      "\n"
     ]
    }
   ],
   "source": [
    "## read a whole file\n",
    "\n",
    "with open('example.txt', 'r') as file:\n",
    "    content = file.read()\n",
    "    print(content)\n",
    "    "
   ]
  },
  {
   "cell_type": "code",
   "execution_count": null,
   "id": "c68f1005",
   "metadata": {},
   "outputs": [
    {
     "name": "stdout",
     "output_type": "stream",
     "text": [
      "Hi, This is an example file. To read the content of this file.\n",
      "Happy Learning!!\n"
     ]
    }
   ],
   "source": [
    "## read a file line by line\n",
    "with open('example.txt','r') as file:\n",
    "    for line in file:\n",
    "        print(line) #strip() removes the newline character"
   ]
  },
  {
   "cell_type": "markdown",
   "id": "39098cf7",
   "metadata": {},
   "source": []
  }
 ],
 "metadata": {
  "kernelspec": {
   "display_name": "Python 3",
   "language": "python",
   "name": "python3"
  },
  "language_info": {
   "codemirror_mode": {
    "name": "ipython",
    "version": 3
   },
   "file_extension": ".py",
   "mimetype": "text/x-python",
   "name": "python",
   "nbconvert_exporter": "python",
   "pygments_lexer": "ipython3",
   "version": "3.12.0"
  }
 },
 "nbformat": 4,
 "nbformat_minor": 5
}
