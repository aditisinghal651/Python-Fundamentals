{
 "cells": [
  {
   "cell_type": "markdown",
   "id": "8f958a5a",
   "metadata": {},
   "source": [
    "## Data Structures in Python\n",
    "\n",
    "a) List\n",
    "\n",
    "b) Tuples\n",
    "\n",
    "c) Sets\n",
    "\n",
    "d) Dictionary"
   ]
  },
  {
   "cell_type": "markdown",
   "id": "5515dfd3",
   "metadata": {},
   "source": [
    "## List \n",
    "\n",
    "List Are ordered, mutable collections of items.\n",
    "They can contain items of different data types."
   ]
  },
  {
   "cell_type": "markdown",
   "id": "3837b6bc",
   "metadata": {},
   "source": []
  },
  {
   "cell_type": "code",
   "execution_count": 3,
   "id": "26791a56",
   "metadata": {},
   "outputs": [
    {
     "name": "stdout",
     "output_type": "stream",
     "text": [
      "<class 'list'>\n"
     ]
    }
   ],
   "source": [
    "list = []\n",
    "print(type(list))"
   ]
  },
  {
   "cell_type": "code",
   "execution_count": 5,
   "id": "efb3ac26",
   "metadata": {},
   "outputs": [
    {
     "name": "stdout",
     "output_type": "stream",
     "text": [
      "['Alice', 'Bob', 'Charlie', 1, 2, 3, 4, 5]\n"
     ]
    }
   ],
   "source": [
    "names = ['Alice', 'Bob', 'Charlie', 1, 2, 3, 4, 5]\n",
    "print(names)"
   ]
  },
  {
   "cell_type": "code",
   "execution_count": 7,
   "id": "0b616f3b",
   "metadata": {},
   "outputs": [
    {
     "name": "stdout",
     "output_type": "stream",
     "text": [
      "['Alice', 1, 2, 3, 4, 5.3, True, False]\n"
     ]
    }
   ],
   "source": [
    "mixed_list = ['Alice', 1, 2, 3, 4, 5.3, True, False]\n",
    "print(mixed_list)"
   ]
  },
  {
   "cell_type": "code",
   "execution_count": 8,
   "id": "493d785c",
   "metadata": {},
   "outputs": [
    {
     "name": "stdout",
     "output_type": "stream",
     "text": [
      "apple\n",
      "banana\n",
      "cherry\n",
      "date\n",
      "date\n"
     ]
    }
   ],
   "source": [
    "## Accessing list elements\n",
    "fruits = ['apple', 'banana', 'cherry', 'date']\n",
    "print(fruits[0])  # First element\n",
    "print(fruits[1])  # Second element\n",
    "print(fruits[2])  # Third element\n",
    "print(fruits[3])  # Fourth element\n",
    "print(fruits[-1])  # Last element"
   ]
  },
  {
   "cell_type": "code",
   "execution_count": 9,
   "id": "f36ee327",
   "metadata": {},
   "outputs": [
    {
     "name": "stdout",
     "output_type": "stream",
     "text": [
      "['apple', 'banana']\n",
      "['banana', 'cherry']\n",
      "['cherry', 'date']\n",
      "['apple', 'banana', 'cherry']\n",
      "['apple', 'cherry']\n",
      "['date', 'cherry', 'banana', 'apple']\n"
     ]
    }
   ],
   "source": [
    "## Slicing lists\n",
    "print(fruits[0:2])  # First two elements\n",
    "print(fruits[1:3])  # Second and third elements\n",
    "print(fruits[2:])  # From third element to the end\n",
    "print(fruits[:3])  # First three elements\n",
    "print(fruits[::2])  # Every second element  \n",
    "print(fruits[::-1])  # Reverse the list\n"
   ]
  },
  {
   "cell_type": "code",
   "execution_count": 13,
   "id": "41a8a184",
   "metadata": {},
   "outputs": [
    {
     "name": "stdout",
     "output_type": "stream",
     "text": [
      "['kiwi', 'banana', 'cherry', 'date', 'fig', 'grape']\n",
      "['kiwi', 'blueberry', 'blackberry', 'date', 'fig', 'grape']\n",
      "['kiwi', 'blueberry', 'blackberry', 'date', 'fig', 'grape', 'fig']\n",
      "['kiwi', 'grape', 'blueberry', 'blackberry', 'date', 'fig', 'grape', 'fig']\n",
      "['kiwi', 'grape', 'blueberry', 'blackberry', 'date', 'fig', 'grape', 'fig']\n",
      "['kiwi', 'grape', 'blueberry', 'blackberry', 'date', 'fig', 'grape']\n",
      "['kiwi', 'blueberry', 'blackberry', 'date', 'fig', 'grape']\n",
      "[]\n",
      "['apple', 'banana', 'cherry', 'date']\n",
      "['apple', 'banana', 'cherry', 'date', 'fig', 'grape']\n"
     ]
    }
   ],
   "source": [
    "## Modifying lists\n",
    "fruits[0] = 'kiwi'  # Change first element\n",
    "print(fruits)\n",
    "fruits[1:3] = ['blueberry', 'blackberry']  # Change second and third elements\n",
    "print(fruits)\n",
    "fruits.append('fig')  # Add an element to the end\n",
    "print(fruits)\n",
    "fruits.insert(1, 'grape')  # Insert an element at index 1\n",
    "print(fruits)\n",
    "#fruits.remove('apple')  # Remove an element by value\n",
    "print(fruits)\n",
    "fruits.pop()  # Remove the last element\n",
    "print(fruits)\n",
    "fruits.pop(1)  # Remove the element at index 1\n",
    "print(fruits)\n",
    "fruits.clear()  # Clear the list\n",
    "print(fruits)\n",
    "fruits = ['apple', 'banana', 'cherry', 'date']\n",
    "print(fruits)\n",
    "fruits.extend(['fig', 'grape'])  # Extend the list with another list\n",
    "print(fruits)\n"
   ]
  },
  {
   "cell_type": "code",
   "execution_count": 20,
   "id": "a7ae0193",
   "metadata": {},
   "outputs": [
    {
     "name": "stdout",
     "output_type": "stream",
     "text": [
      "2\n"
     ]
    }
   ],
   "source": [
    "index = fruits.index('cherry')  # Get the index of an element\n",
    "print(index)"
   ]
  },
  {
   "cell_type": "code",
   "execution_count": 22,
   "id": "4556c04e",
   "metadata": {},
   "outputs": [
    {
     "name": "stdout",
     "output_type": "stream",
     "text": [
      "['apple', 'banana', 'cherry', 'banana', 'kiwi', 'date', 'fig', 'grape']\n",
      "1\n",
      "2\n"
     ]
    }
   ],
   "source": [
    "fruits.insert(3, 'banana')  # Insert an element at the index of 'cherry'\n",
    "print(fruits)\n",
    "print(fruits.count('kiwi'))  # Count occurrences of 'kiwi'\n",
    "print(fruits.count('banana'))  # Count occurrences of 'banana'"
   ]
  },
  {
   "cell_type": "code",
   "execution_count": 23,
   "id": "ea728bd6",
   "metadata": {},
   "outputs": [
    {
     "name": "stdout",
     "output_type": "stream",
     "text": [
      "['apple', 'banana', 'banana', 'cherry', 'date', 'fig', 'grape', 'kiwi']\n"
     ]
    }
   ],
   "source": [
    "fruits.sort()  # Sort the list\n",
    "print(fruits)"
   ]
  },
  {
   "cell_type": "code",
   "execution_count": 24,
   "id": "a0028d9d",
   "metadata": {},
   "outputs": [
    {
     "name": "stdout",
     "output_type": "stream",
     "text": [
      "['kiwi', 'grape', 'fig', 'date', 'cherry', 'banana', 'banana', 'apple']\n"
     ]
    }
   ],
   "source": [
    "fruits.reverse()  # Reverse the list\n",
    "print(fruits)"
   ]
  },
  {
   "cell_type": "code",
   "execution_count": 25,
   "id": "87a804c2",
   "metadata": {},
   "outputs": [
    {
     "name": "stdout",
     "output_type": "stream",
     "text": [
      "[]\n"
     ]
    }
   ],
   "source": [
    "fruits.clear()  # Clear the list\n",
    "print(fruits)"
   ]
  },
  {
   "cell_type": "markdown",
   "id": "51427d96",
   "metadata": {},
   "source": [
    "### List Comprehension\n",
    "\n",
    "Basic Syntax [expr for item in iterable]\n",
    "\n",
    "with Conditional Logic [expr for item in iterable if condition]\n",
    "\n",
    "Nested List Comprehension [expr for item1 in iterable for item2 in iterable]"
   ]
  },
  {
   "cell_type": "code",
   "execution_count": null,
   "id": "07563bf5",
   "metadata": {},
   "outputs": [
    {
     "name": "stdout",
     "output_type": "stream",
     "text": [
      "[0, 1, 4, 9, 16, 25, 36, 49, 64, 81]\n"
     ]
    }
   ],
   "source": [
    "## List Comprehension (Basic Syntax)\n",
    "squares = [x**2 for x in range(10)]  # List of squares\n",
    "print(squares)"
   ]
  },
  {
   "cell_type": "code",
   "execution_count": null,
   "id": "b87b96f0",
   "metadata": {},
   "outputs": [
    {
     "name": "stdout",
     "output_type": "stream",
     "text": [
      "[0, 4, 16, 36, 64]\n"
     ]
    }
   ],
   "source": [
    "## with condition\n",
    "even_squares = [x**2 for x in range(10) if x % 2 == 0]  # List of squares of even numbers\n",
    "print(even_squares)\n"
   ]
  },
  {
   "cell_type": "code",
   "execution_count": 28,
   "id": "d52cdd50",
   "metadata": {},
   "outputs": [
    {
     "name": "stdout",
     "output_type": "stream",
     "text": [
      "[[[1, 2, 3], 'a'], [[1, 2, 3], 'b'], [[1, 2, 3], 'c'], [[4, 5, 6], 'a'], [[4, 5, 6], 'b'], [[4, 5, 6], 'c'], [[7, 8, 9], 'a'], [[7, 8, 9], 'b'], [[7, 8, 9], 'c']]\n"
     ]
    }
   ],
   "source": [
    "## Nested Lists Comprehension\n",
    "lst1 = [[1, 2, 3], [4, 5, 6], [7, 8, 9]]    \n",
    "lst2 = ['a', 'b', 'c']\n",
    "\n",
    "pair = [[i, j] for i in lst1 for j in lst2]  # Nested list comprehension\n",
    "print(pair)"
   ]
  },
  {
   "cell_type": "code",
   "execution_count": null,
   "id": "02715ad1",
   "metadata": {},
   "outputs": [
    {
     "name": "stdout",
     "output_type": "stream",
     "text": [
      "[0, 1, 4, 9, 16, 25, 36, 49, 64, 81]\n"
     ]
    }
   ],
   "source": [
    "## List comprehension with function  calls\n",
    "def square(x):\n",
    "    return x**2\n",
    "\n",
    "squares = [square(x) for x in range(10)]  # List of squares using a function\n",
    "print(squares)"
   ]
  },
  {
   "cell_type": "markdown",
   "id": "623754cc",
   "metadata": {},
   "source": [
    "### Real World Examples using Lists in Python\n"
   ]
  },
  {
   "cell_type": "markdown",
   "id": "97acc061",
   "metadata": {},
   "source": [
    "#### Example 1: Create a To Do List to Keep Track of Tasks"
   ]
  },
  {
   "cell_type": "code",
   "execution_count": 1,
   "id": "30c4938d",
   "metadata": {},
   "outputs": [
    {
     "name": "stdout",
     "output_type": "stream",
     "text": [
      "Go to gym is in the list\n",
      "To do List Remaining:\n",
      "- Buy Grocery\n",
      "- Clean the house\n",
      "- Go to gym\n",
      "- Read a book\n"
     ]
    }
   ],
   "source": [
    "to_do_list = [\"Buy Grocery\",\"Clean the house\", \"Pay bills\" ]\n",
    "\n",
    "## Adding an item to the list\n",
    "to_do_list.append(\"Go to gym\")\n",
    "to_do_list.append(\"Read a book\")\n",
    "\n",
    "## Removing an item from the list\n",
    "to_do_list.remove(\"Pay bills\")\n",
    "\n",
    "## checking if an item is in the list\n",
    "if \"Go to gym\" in to_do_list:\n",
    "    print(\"Go to gym is in the list\")\n",
    "\n",
    "print(\"To do List Remaining:\")\n",
    "for item in to_do_list:\n",
    "    print(f\"- {item}\")"
   ]
  },
  {
   "cell_type": "markdown",
   "id": "e9074ba4",
   "metadata": {},
   "source": [
    "#### Example 2: Organizing Student Grade\n",
    "\n",
    "Create a list to store and calculate average grades for students"
   ]
  },
  {
   "cell_type": "markdown",
   "id": "8f518a4b",
   "metadata": {},
   "source": []
  },
  {
   "cell_type": "code",
   "execution_count": 2,
   "id": "702e8f74",
   "metadata": {},
   "outputs": [
    {
     "name": "stdout",
     "output_type": "stream",
     "text": [
      "Average grade:  69.25\n",
      "Maximum grade: 95\n",
      "Minimum grade: 34\n"
     ]
    }
   ],
   "source": [
    "#Organizing student grades\n",
    "grades = [34, 56, 78, 90, 45, 67, 89, 23]\n",
    "\n",
    "#adding a new grade\n",
    "grades.append(95)\n",
    "\n",
    "#removing a grade\n",
    "grades.remove(23)\n",
    "\n",
    "#calculating the average\n",
    "average = sum(grades) / len(grades)\n",
    "print(f\"Average grade: {average: .2f}\")\n",
    "\n",
    "#Find the maximum and minimum grades\n",
    "max_grade = max(grades)\n",
    "min_grade = min(grades)\n",
    "print(f\"Maximum grade: {max_grade}\")\n",
    "print(f\"Minimum grade: {min_grade}\")\n"
   ]
  },
  {
   "cell_type": "markdown",
   "id": "ae975a48",
   "metadata": {},
   "source": [
    "#### Example 3: Manage an Inventory\n"
   ]
  },
  {
   "cell_type": "code",
   "execution_count": 3,
   "id": "40485d98",
   "metadata": {},
   "outputs": [
    {
     "name": "stdout",
     "output_type": "stream",
     "text": [
      "Inventory after adding pears: ['apples', 'bananas', 'oranges', 'grapes', 'pears']\n",
      "Inventory after removing bananas: ['apples', 'oranges', 'grapes', 'pears']\n",
      "Oranges are in the inventory.\n",
      "Final inventory: ['apples', 'oranges', 'grapes', 'pears']\n"
     ]
    }
   ],
   "source": [
    "inventory = ['apples', 'bananas', 'oranges', 'grapes']\n",
    "\n",
    "# Adding an item to the inventory\n",
    "inventory.append('pears')\n",
    "print(\"Inventory after adding pears:\", inventory)\n",
    "\n",
    "# Removing an item from the inventory\n",
    "inventory.remove('bananas')\n",
    "print(\"Inventory after removing bananas:\", inventory)\n",
    "\n",
    "# Checking if an item is in the inventory\n",
    "if 'oranges' in inventory:\n",
    "    print(\"Oranges are in the inventory.\")\n",
    "else:\n",
    "    print(\"Oranges are not in the inventory.\")\n",
    "\n",
    "print(\"Final inventory:\", inventory)"
   ]
  },
  {
   "cell_type": "markdown",
   "id": "8d02ada7",
   "metadata": {},
   "source": [
    "#### Example 4: Collecting user Feedback\n"
   ]
  },
  {
   "cell_type": "code",
   "execution_count": null,
   "id": "18138a41",
   "metadata": {},
   "outputs": [
    {
     "name": "stdout",
     "output_type": "stream",
     "text": [
      "Number of positive feedbacks: 2\n",
      "Sorted feedback: ['Average service', 'Bad service', 'Excellent service', 'Good service', 'Poor service']\n",
      "Filtered feedback: ['Average service', 'Bad service', 'Excellent service', 'Good service', 'Poor service']\n"
     ]
    }
   ],
   "source": [
    "#Collecting user input\n",
    "feedback = [\"Good service\", \"Average service\", \"Poor service\"]\n",
    "feedback.append(\"Excellent service\")\n",
    "feedback.append(\"Bad service\")\n",
    "\n",
    "#Counting specific feedback\n",
    "positive_feedback = sum(1 for f in feedback if \"Good\" in f or \"Excellent\" in f)\n",
    "print(f\"Number of positive feedbacks: {positive_feedback}\")     \n",
    "\n",
    "#Sorting feedback\n",
    "feedback.sort()\n",
    "print(\"Sorted feedback:\", feedback)\n",
    "\n",
    "\n"
   ]
  },
  {
   "cell_type": "markdown",
   "id": "61a30326",
   "metadata": {},
   "source": [
    "## Sets\n",
    "\n",
    "Sets are a built-in data type in Python used to store collections of unique items. \n",
    "\n",
    "They are unordered - elements don't follow a specific order.\n",
    "They don't allow duplicate elements.\n",
    "\n",
    "Useful for - \n",
    "\n",
    "1. Membership tests\n",
    "2. Eliminating duplicate entries\n",
    "3. Performing Mathematical set operations - union, intersection, difference, and symmetric difference."
   ]
  },
  {
   "cell_type": "code",
   "execution_count": 18,
   "id": "9db6e149",
   "metadata": {},
   "outputs": [
    {
     "name": "stdout",
     "output_type": "stream",
     "text": [
      "<class 'set'>\n",
      "<class 'set'>\n",
      "{1, 2, 3, 4, 5}\n",
      "{4, 5, 6, 7, 8}\n"
     ]
    }
   ],
   "source": [
    "## Create a set\n",
    "set1 = {1, 2, 3, 4, 5}\n",
    "set2 = {4, 5, 6, 7, 8}\n",
    "print(type(set1))\n",
    "print(type(set2))\n",
    "print(set1)\n",
    "print(set2)\n"
   ]
  },
  {
   "cell_type": "code",
   "execution_count": 20,
   "id": "3298b7cd",
   "metadata": {},
   "outputs": [
    {
     "name": "stdout",
     "output_type": "stream",
     "text": [
      "{1, 2, 3, 4, 5, 6}\n"
     ]
    }
   ],
   "source": [
    "## Basic set operations\n",
    "# Adding elements\n",
    "set1.add(6)\n",
    "set1.add(6) # Adding a duplicate element\n",
    "print(set1)\n"
   ]
  },
  {
   "cell_type": "code",
   "execution_count": 21,
   "id": "3c87994f",
   "metadata": {},
   "outputs": [
    {
     "name": "stdout",
     "output_type": "stream",
     "text": [
      "{1, 2, 3, 4, 5}\n",
      "{1, 2, 3, 4, 5}\n",
      "1\n",
      "{2, 3, 4, 5}\n"
     ]
    }
   ],
   "source": [
    "#removing elements\n",
    "set1.remove(6)  # Remove an element (will give error if not found)\n",
    "print(set1)\n",
    "set1.discard(6)  # Discard an element (no error if not found)\n",
    "print(set1)\n",
    "elem = set1.pop()  # Remove and return an arbitrary element\n",
    "print(elem)\n",
    "print(set1)"
   ]
  },
  {
   "cell_type": "code",
   "execution_count": 6,
   "id": "0d0d0927",
   "metadata": {},
   "outputs": [
    {
     "name": "stdout",
     "output_type": "stream",
     "text": [
      "{1, 2, 3, 4, 5, 6, 7, 8}\n",
      "{4, 5}\n",
      "{1, 2, 3}\n",
      "False\n",
      "False\n",
      "{1, 2, 3, 6, 7, 8}\n",
      "None\n",
      "None\n",
      "None\n",
      "1\n",
      "None\n",
      "set()\n",
      "{4, 5, 6, 7, 8}\n"
     ]
    }
   ],
   "source": [
    "#set operations\n",
    "print(set1.union(set2))  # Union of two sets\n",
    "print(set1.intersection(set2))  # Intersection of two sets\n",
    "print(set1.difference(set2))  # Difference of two sets\n",
    "print(set1.issubset(set2))  # Check if set1 is a subset of set2\n",
    "print(set1.issuperset(set2))  # Check if set1 is a superset of set2\n",
    "print(set1.symmetric_difference(set2))  # Symmetric difference of two sets\n",
    "print(set1.add(6))  # Add an element to a set\n",
    "print(set1.remove(6))  # Remove an element from a set\n",
    "print(set1.discard(6))  # Discard an element from a set\n",
    "print(set1.pop())  # Remove and return an arbitrary element from a set\n",
    "print(set1.clear())  # Clear a set\n",
    "print(set1)\n",
    "print(set2)\n",
    "\n",
    "\n"
   ]
  },
  {
   "cell_type": "code",
   "execution_count": 22,
   "id": "da3748f1",
   "metadata": {},
   "outputs": [
    {
     "name": "stdout",
     "output_type": "stream",
     "text": [
      "True\n",
      "False\n",
      "False\n",
      "True\n"
     ]
    }
   ],
   "source": [
    "## set membership test\n",
    "my_set = {1, 2, 3, 4, 5}\n",
    "print(1 in my_set)  # True\n",
    "print(6 in my_set)  # False\n",
    "print(1 not in my_set)  # False\n",
    "print(6 not in my_set)  # True"
   ]
  },
  {
   "cell_type": "code",
   "execution_count": 23,
   "id": "e8f43531",
   "metadata": {},
   "outputs": [
    {
     "name": "stdout",
     "output_type": "stream",
     "text": [
      "{1, 2, 3, 4, 5}\n",
      "{3}\n",
      "{1, 2}\n",
      "{1, 2, 4, 5}\n",
      "False\n",
      "False\n",
      "False\n"
     ]
    }
   ],
   "source": [
    "## Mathermatical set operations\n",
    "set1 = {1, 2, 3}\n",
    "set2 = {3, 4, 5}\n",
    "\n",
    "print(set1.union(set2))  # Union\n",
    "print(set1.intersection(set2))  # Intersection\n",
    "print(set1.difference(set2))  # Difference\n",
    "print(set1.symmetric_difference(set2))  # Symmetric difference\n",
    "print(set1.issubset(set2))  # Subset\n",
    "print(set1.issuperset(set2))  # Superset\n",
    "print(set1.isdisjoint(set2))  # Disjoint sets"
   ]
  },
  {
   "cell_type": "code",
   "execution_count": 24,
   "id": "ea8b331a",
   "metadata": {},
   "outputs": [
    {
     "name": "stdout",
     "output_type": "stream",
     "text": [
      "{3}\n",
      "{3}\n"
     ]
    }
   ],
   "source": [
    "## Set intersection\n",
    "set1 = {1, 2, 3}\n",
    "set2 = {3, 4, 5}\n",
    "intersection = set1.intersection(set2)  # Find common elements\n",
    "print(intersection)  # Output: {3}\n",
    "\n",
    "set1.intersection_update(set2)  # Update set1 with intersection\n",
    "print(set1)  # Output: {3}"
   ]
  },
  {
   "cell_type": "code",
   "execution_count": 25,
   "id": "c3e463d0",
   "metadata": {},
   "outputs": [
    {
     "name": "stdout",
     "output_type": "stream",
     "text": [
      "{1, 2, 3, 4, 5}\n"
     ]
    }
   ],
   "source": [
    "# Remove duplicates from a list\n",
    "my_list = [1, 2, 2, 3, 4, 4, 5]\n",
    "my_set = set(my_list)  # Convert list to set\n",
    "print(my_set)  # Output: {1, 2, 3, 4, 5}\n"
   ]
  },
  {
   "cell_type": "code",
   "execution_count": 26,
   "id": "f98150b6",
   "metadata": {},
   "outputs": [
    {
     "name": "stdout",
     "output_type": "stream",
     "text": [
      "[1, 2, 3, 4, 5]\n"
     ]
    }
   ],
   "source": [
    "## Convert a set to a list\n",
    "my_set = {1, 2, 3, 4, 5}\n",
    "my_list = list(my_set)  # Convert set to list\n",
    "print(my_list)  # Output: [1, 2, 3, 4, 5]\n"
   ]
  },
  {
   "cell_type": "code",
   "execution_count": 28,
   "id": "741aa772",
   "metadata": {},
   "outputs": [
    {
     "name": "stdout",
     "output_type": "stream",
     "text": [
      "{'This', 'a', 'sample', 'with', 'words', 'sentence', 'is', 'some'}\n",
      "8\n"
     ]
    }
   ],
   "source": [
    "## Counting unique words in a sentence\n",
    "sentence = \"This is a sample sentence with some sample words\"\n",
    "words = sentence.split()  # Split sentence into words\n",
    "unique_words = set(words)  # Convert list of words to set\n",
    "print(unique_words)  # Output: {'This', 'is', 'a', 'sample', 'sentence', 'with', 'some', 'words'}\n",
    "print(len(unique_words))  # Count unique words"
   ]
  },
  {
   "cell_type": "markdown",
   "id": "8f7f5d55",
   "metadata": {},
   "source": [
    "## Tuples\n",
    "\n",
    "Tuples are ordered collection of items that are immutable. They are similar to lists, but their immutability makes them different.\n"
   ]
  },
  {
   "cell_type": "code",
   "execution_count": 29,
   "id": "28ad01b8",
   "metadata": {},
   "outputs": [
    {
     "name": "stdout",
     "output_type": "stream",
     "text": [
      "<class 'tuple'>\n",
      "(1, 2, 3, 4, 5)\n"
     ]
    }
   ],
   "source": [
    "## Creating a tuple\n",
    "my_tuple = (1, 2, 3, 4, 5)\n",
    "print(type(my_tuple))  # Output: <class 'tuple'>\n",
    "print(my_tuple)  # Output: (1, 2, 3, 4, 5)\n"
   ]
  },
  {
   "cell_type": "code",
   "execution_count": 34,
   "id": "42525b3d",
   "metadata": {},
   "outputs": [
    {
     "name": "stdout",
     "output_type": "stream",
     "text": [
      "(1, 'apple', 3.14, True)\n",
      "(1, (2, 3), (4, 5))\n"
     ]
    }
   ],
   "source": [
    "mixed_tuple = (1, 'apple', 3.14, True)\n",
    "print(mixed_tuple)  # Output: (1, 'apple', 3.14, True)\n",
    "nested_tuple = (1, (2, 3), (4, 5))\n",
    "print(nested_tuple)  # Output: (1, (2, 3), (4, 5))\n"
   ]
  },
  {
   "cell_type": "code",
   "execution_count": 40,
   "id": "a5bed978",
   "metadata": {},
   "outputs": [
    {
     "name": "stdout",
     "output_type": "stream",
     "text": [
      "1\n",
      "2\n",
      "5\n"
     ]
    }
   ],
   "source": [
    "## Accessing tuple elements\n",
    "my_tuple = (1, 2, 3, 4, 5)\n",
    "print(my_tuple[0])  # First element\n",
    "print(my_tuple[1])  # Second element\n",
    "print(my_tuple[-1])  # last element\n"
   ]
  },
  {
   "cell_type": "code",
   "execution_count": 41,
   "id": "61ea1116",
   "metadata": {},
   "outputs": [
    {
     "name": "stdout",
     "output_type": "stream",
     "text": [
      "(1, 2)\n",
      "(2, 3)\n",
      "(3, 4, 5)\n",
      "(1, 2, 3)\n",
      "(1, 3, 5)\n",
      "(5, 4, 3, 2, 1)\n"
     ]
    }
   ],
   "source": [
    "\n",
    "## Slicing tuples\n",
    "print(my_tuple[0:2])  # First two elements\n",
    "print(my_tuple[1:3])  # Second and third elements\n",
    "print(my_tuple[2:])  # From third element to the end\n",
    "print(my_tuple[:3])  # First three elements\n",
    "print(my_tuple[::2])  # Every second element\n",
    "print(my_tuple[::-1])  # Reverse the tuple\n"
   ]
  },
  {
   "cell_type": "code",
   "execution_count": 43,
   "id": "26424c9b",
   "metadata": {},
   "outputs": [
    {
     "name": "stdout",
     "output_type": "stream",
     "text": [
      "(1, 2, 3, 4, 5, 1, 'apple', 3.14, True)\n",
      "(1, 'apple', 3.14, True, 1, 'apple', 3.14, True)\n",
      "True\n",
      "5\n",
      "5\n",
      "1\n",
      "1\n",
      "2\n",
      "2\n",
      "2\n"
     ]
    }
   ],
   "source": [
    "## Tuple operations\n",
    "my_tuple = (1, 2, 3, 4, 5)\n",
    "mixed_tuple = (1, 'apple', 3.14, True)\n",
    "print(my_tuple + mixed_tuple)  # Concatenate tuples\n",
    "print(mixed_tuple * 2)  # Repeat tuple\n",
    "print(3 in my_tuple)  # Check if an element is in the tuple\n",
    "print(len(my_tuple))  # Length of the tuple\n",
    "print(max(my_tuple))  # Maximum element in the tuple\n",
    "print(min(my_tuple))  # Minimum element in the tuple\n",
    "print(my_tuple.count(2))  # Count occurrences of an element\n",
    "print(my_tuple.index(3))  # Get index of an element\n",
    "print(my_tuple.index(3, 1))  # Get index of an element starting from index 1\n",
    "print(my_tuple.index(3, 1, 4))  # Get index of an element in a range\n"
   ]
  },
  {
   "cell_type": "code",
   "execution_count": 44,
   "id": "0e2a2ddb",
   "metadata": {},
   "outputs": [
    {
     "name": "stdout",
     "output_type": "stream",
     "text": [
      "(1, 'Hello', 3.14)\n",
      "1\n",
      "Hello\n",
      "3.14\n"
     ]
    }
   ],
   "source": [
    "## Immutability of tuples - their elements cannot be changed once assigned\n",
    "packed_tuple = 1, \"Hello\", 3.14\n",
    "print(packed_tuple)  # Output: (1, 'Hello', 3.14)\n",
    "unpacked_tuple = packed_tuple  # Unpacking a tuple\n",
    "a, b, c = packed_tuple\n",
    "print(a)  # Output: 1\n",
    "print(b)  # Output: Hello\n",
    "print(c)  # Output: 3.14\n"
   ]
  },
  {
   "cell_type": "code",
   "execution_count": 45,
   "id": "85b697fe",
   "metadata": {},
   "outputs": [
    {
     "name": "stdout",
     "output_type": "stream",
     "text": [
      "1\n",
      "2\n",
      "[3, 4, 5]\n"
     ]
    }
   ],
   "source": [
    "## Unpacking with *\n",
    "my_tuple = (1, 2, 3, 4, 5)\n",
    "a, b, *rest = my_tuple  # Unpacking with *\n",
    "print(a)  # Output: 1\n",
    "print(b)  # Output: 2\n",
    "print(rest)  # Output: [3, 4, 5]\n"
   ]
  },
  {
   "cell_type": "code",
   "execution_count": 47,
   "id": "ebb50580",
   "metadata": {},
   "outputs": [
    {
     "name": "stdout",
     "output_type": "stream",
     "text": [
      "[1, 2, 3]\n",
      "[4, 5, 6]\n",
      "3\n",
      "[4, 5]\n"
     ]
    }
   ],
   "source": [
    "## Nested tuples\n",
    "## Nested List\n",
    "lst = [[1, 2, 3], [4, 5, 6], [7, 8, 9]]\n",
    "print(lst[0])  # Output: [1, 2, 3]\n",
    "print(lst[1])  # Output: [4, 5, 6]\n",
    "print(lst[0][2])\n",
    "print(lst[1][0:2])"
   ]
  },
  {
   "cell_type": "code",
   "execution_count": 55,
   "id": "27ccdb4d",
   "metadata": {},
   "outputs": [
    {
     "name": "stdout",
     "output_type": "stream",
     "text": [
      "(1, 'Hello', 3.14)\n"
     ]
    }
   ],
   "source": [
    "lst1 = [[1, 2, 3], [4, 5, 6], (1, \"Hello\", 3.14)]\n",
    "print(lst1[2][:])  # Output: [1, 2, 3]"
   ]
  },
  {
   "cell_type": "code",
   "execution_count": 56,
   "id": "05ab5656",
   "metadata": {},
   "outputs": [
    {
     "name": "stdout",
     "output_type": "stream",
     "text": [
      "1 2 3 \n",
      "4 5 6 \n",
      "1 Hello 3.14 \n"
     ]
    }
   ],
   "source": [
    "## iterating through a tuple\n",
    "for sub_tuple in lst1:\n",
    "    for item in sub_tuple:\n",
    "        print(item, end=\" \")  # Output: 1 2 3 4 5 6\n",
    "    print()"
   ]
  },
  {
   "cell_type": "markdown",
   "id": "7837dd6f",
   "metadata": {},
   "source": [
    "### Conclusion: \n",
    "Tuples are versaltile and useful in many real-world scenarios where an immutable and ordered collection of items are required. Commonly used in data structures, function arguments and return values, and as dictionary keys. Understanding how to leverage tuples effectively can improve the efficiency and readability of your Python code."
   ]
  },
  {
   "cell_type": "code",
   "execution_count": null,
   "id": "342e17bc",
   "metadata": {},
   "outputs": [],
   "source": []
  },
  {
   "cell_type": "markdown",
   "id": "f65c6655",
   "metadata": {},
   "source": [
    "## Dictionaries"
   ]
  },
  {
   "cell_type": "markdown",
   "id": "f38f194a",
   "metadata": {},
   "source": [
    "Dictionaries are unordered collection of items. They store data in key-value pairs. Keys must be unique and immutable(e.g., strings, numbers, or tuples), while values can be of any type."
   ]
  },
  {
   "cell_type": "code",
   "execution_count": 61,
   "id": "93a2b972",
   "metadata": {},
   "outputs": [
    {
     "name": "stdout",
     "output_type": "stream",
     "text": [
      "<class 'dict'>\n",
      "{}\n"
     ]
    }
   ],
   "source": [
    "## Creating a dictionary\n",
    "empty_dict = {}  # Empty dictionary\n",
    "print(type(empty_dict))  # Output: <class 'dict'>\n",
    "print(empty_dict)  # Output: {}\n"
   ]
  },
  {
   "cell_type": "code",
   "execution_count": 66,
   "id": "2b36889c",
   "metadata": {},
   "outputs": [
    {
     "name": "stdout",
     "output_type": "stream",
     "text": [
      "<class 'dict'>\n",
      "{}\n"
     ]
    }
   ],
   "source": [
    "#2nd way of creating a dictionary\n",
    "empty_dict1 = dict()  # Empty dictionary\n",
    "print(type(empty_dict1))  # Output: <class 'dict'>\n",
    "print(empty_dict1)  # Output: {}\n"
   ]
  },
  {
   "cell_type": "code",
   "execution_count": 68,
   "id": "53329986",
   "metadata": {},
   "outputs": [
    {
     "name": "stdout",
     "output_type": "stream",
     "text": [
      "{'name': 'Alice', 'age': 20, 'major': 'Computer Science'}\n"
     ]
    }
   ],
   "source": [
    "student = {\n",
    "    \"name\": \"Alice\",\n",
    "    \"age\": 20,\n",
    "    \"major\": \"Computer Science\"}\n",
    "print(student)"
   ]
  },
  {
   "cell_type": "code",
   "execution_count": 70,
   "id": "c1641e64",
   "metadata": {},
   "outputs": [
    {
     "name": "stdout",
     "output_type": "stream",
     "text": [
      "Alice\n",
      "20\n",
      "Not found\n"
     ]
    }
   ],
   "source": [
    "## Accessing dictionary elements\n",
    "print(student[\"name\"])  # Accessing value by key\n",
    "print(student.get(\"age\"))  # Accessing value using get() method\n",
    "print(student.get(\"blood group\", \"Not found\"))  # Accessing non-existing key with default value\n"
   ]
  },
  {
   "cell_type": "code",
   "execution_count": 71,
   "id": "4fffc8b4",
   "metadata": {},
   "outputs": [
    {
     "name": "stdout",
     "output_type": "stream",
     "text": [
      "{'name': 'Alice', 'age': 21, 'major': 'Computer Science'}\n",
      "{'name': 'Alice', 'age': 21, 'major': 'Computer Science', 'GPA': 3.8}\n",
      "{'name': 'Bob', 'age': 21, 'major': 'Mathematics', 'GPA': 3.8}\n",
      "{'name': 'Bob', 'age': 21, 'major': 'Mathematics'}\n",
      "{'name': 'Bob', 'age': 21}\n"
     ]
    }
   ],
   "source": [
    "## Modifying dictionary\n",
    "## Dictionary are mutable, so you can add, remove, or change elements\n",
    "\n",
    "student[\"age\"] = 21  # Change value of existing key\n",
    "print(student)\n",
    "student[\"GPA\"] = 3.8  # Add new key-value pair\n",
    "print(student)\n",
    "student.update({\"name\": \"Bob\", \"major\": \"Mathematics\"})  # Update multiple key-value pairs\n",
    "print(student)\n",
    "student.pop(\"GPA\")  # Remove key-value pair\n",
    "print(student)\n",
    "student.popitem()  # Remove last inserted key-value pair\n",
    "print(student)\n",
    " "
   ]
  },
  {
   "cell_type": "code",
   "execution_count": 73,
   "id": "734cf680",
   "metadata": {},
   "outputs": [
    {
     "name": "stdout",
     "output_type": "stream",
     "text": [
      "dict_keys(['name', 'age'])\n",
      "dict_values(['Bob', 21])\n",
      "dict_items([('name', 'Bob'), ('age', 21)])\n"
     ]
    }
   ],
   "source": [
    "## Dictionary methods\n",
    "\n",
    "keys = student.keys()  # Get all keys\n",
    "print(keys)\n",
    "values = student.values()  # Get all values\n",
    "print(values)\n",
    "items = student.items()  # Get all key-value pairs\n",
    "print(items)"
   ]
  },
  {
   "cell_type": "code",
   "execution_count": 74,
   "id": "4ab59159",
   "metadata": {},
   "outputs": [
    {
     "name": "stdout",
     "output_type": "stream",
     "text": [
      "{'name': 'Bob', 'age': 21}\n",
      "{'name': 'Charlie', 'age': 21}\n",
      "{'name': 'Bob', 'age': 21}\n"
     ]
    }
   ],
   "source": [
    "## shallow copy\n",
    "shallow_copy = student.copy()  # Create a shallow copy of the dictionary\n",
    "print(shallow_copy)\n",
    "shallow_copy[\"name\"] = \"Charlie\"  # Change value in the copy\n",
    "print(shallow_copy)\n",
    "print(student)  # Original dictionary remains unchanged"
   ]
  },
  {
   "cell_type": "code",
   "execution_count": 81,
   "id": "a11faa4b",
   "metadata": {},
   "outputs": [
    {
     "name": "stdout",
     "output_type": "stream",
     "text": [
      "name\n",
      "age\n",
      "\n",
      "name : Bob\n",
      "age : 21\n",
      "\n",
      "Bob\n",
      "21\n"
     ]
    }
   ],
   "source": [
    "## Iterating through a dictionary\n",
    "for key in student:  # Iterate through keys\n",
    "    print(key)  # Print key-value pairs\n",
    "print()\n",
    "\n",
    "for key, value in student.items():  # Iterate through key-value pairs\n",
    "    print(f\"{key} : {value}\")  # Print key-value pairs\n",
    "print()\n",
    "\n",
    "for value in student.values():  # Iterate through values\n",
    "    print(value)  # Print values\n"
   ]
  },
  {
   "cell_type": "code",
   "execution_count": 82,
   "id": "8e6f7dc1",
   "metadata": {},
   "outputs": [
    {
     "name": "stdout",
     "output_type": "stream",
     "text": [
      "{'student1': {'name': 'Alice', 'age': 20, 'major': 'Computer Science'}, 'student2': {'name': 'Bob', 'age': 22, 'major': 'Mathematics'}}\n",
      "Alice\n",
      "22\n"
     ]
    }
   ],
   "source": [
    "## Nested dictionaries\n",
    "nested_dict = {\n",
    "    \"student1\": {\n",
    "        \"name\": \"Alice\",\n",
    "        \"age\": 20,\n",
    "        \"major\": \"Computer Science\"\n",
    "    },\n",
    "    \"student2\": {\n",
    "        \"name\": \"Bob\",\n",
    "        \"age\": 22,\n",
    "        \"major\": \"Mathematics\"\n",
    "    }\n",
    "}\n",
    "print(nested_dict)\n",
    "print(nested_dict[\"student1\"][\"name\"])  # Accessing nested dictionary\n",
    "print(nested_dict[\"student2\"][\"age\"])  # Accessing nested dictionary    \n",
    "\n"
   ]
  },
  {
   "cell_type": "code",
   "execution_count": 83,
   "id": "0aa36df5",
   "metadata": {},
   "outputs": [
    {
     "name": "stdout",
     "output_type": "stream",
     "text": [
      "{0: 0, 1: 1, 2: 4, 3: 9, 4: 16}\n",
      "\n",
      "{0: 0, 2: 4, 4: 16}\n"
     ]
    }
   ],
   "source": [
    "## Dictionary comprehension\n",
    "squares = {x: x**2 for x in range(5)}  # Dictionary comprehension\n",
    "print(squares)  # Output: {0: 0, 1: 1, 2: 4, 3: 9, 4: 16}\n",
    "print()\n",
    "\n",
    "squares = {x: x**2 for x in range(5) if x % 2 == 0}  # Dictionary comprehension with condition\n",
    "print(squares)  # Output: {0: 0, 2: 4, 4: 16}\n"
   ]
  },
  {
   "cell_type": "markdown",
   "id": "c14f39d5",
   "metadata": {},
   "source": [
    "#### Practical Examples\n",
    "\n",
    "Q. Use a dictionary to count the frequency of elements in list"
   ]
  },
  {
   "cell_type": "code",
   "execution_count": 84,
   "id": "3c45f001",
   "metadata": {},
   "outputs": [
    {
     "name": "stdout",
     "output_type": "stream",
     "text": [
      "{1: 2, 2: 4, 3: 2, 4: 3, 5: 5}\n"
     ]
    }
   ],
   "source": [
    "numbers = [1,1,2,2,2,2, 3,3,4,4, 4, 5,5,5,5,5]\n",
    "frequency = {}\n",
    "\n",
    "for number in numbers:\n",
    "    if number in frequency:\n",
    "        frequency[number] += 1\n",
    "    else:\n",
    "        frequency[number] = 1\n",
    "print(frequency)"
   ]
  },
  {
   "cell_type": "code",
   "execution_count": 86,
   "id": "2c2c1ab1",
   "metadata": {},
   "outputs": [
    {
     "name": "stdout",
     "output_type": "stream",
     "text": [
      "{'a': 1, 'b': 2, 'c': 3, 'd': 4}\n"
     ]
    }
   ],
   "source": [
    "## Merge 2 dictionaries into one\n",
    "dict1 = {'a': 1, 'b': 2}\n",
    "dict2 = {'c': 3, 'd': 4}\n",
    "merged_dict = {**dict1, **dict2}  # Merge dictionaries\n",
    "print(merged_dict)"
   ]
  },
  {
   "cell_type": "code",
   "execution_count": 87,
   "id": "0885313d",
   "metadata": {},
   "outputs": [
    {
     "name": "stdout",
     "output_type": "stream",
     "text": [
      "{'e': 5, 'f': 7, 'h': 8}\n"
     ]
    }
   ],
   "source": [
    "dict3 = {'e': 5, 'f': 6}\n",
    "dict4 = {'f': 7, 'h': 8}\n",
    "merged_dict2 = {**dict3, **dict4}  # Merge dictionaries\n",
    "print(merged_dict2)"
   ]
  }
 ],
 "metadata": {
  "kernelspec": {
   "display_name": "Python 3",
   "language": "python",
   "name": "python3"
  },
  "language_info": {
   "codemirror_mode": {
    "name": "ipython",
    "version": 3
   },
   "file_extension": ".py",
   "mimetype": "text/x-python",
   "name": "python",
   "nbconvert_exporter": "python",
   "pygments_lexer": "ipython3",
   "version": "3.12.0"
  }
 },
 "nbformat": 4,
 "nbformat_minor": 5
}
