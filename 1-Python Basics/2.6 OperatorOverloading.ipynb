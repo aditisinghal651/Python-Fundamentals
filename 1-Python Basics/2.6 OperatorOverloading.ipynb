{
 "cells": [
  {
   "cell_type": "markdown",
   "id": "ca50be46",
   "metadata": {},
   "source": [
    "### Operator Overloading \n",
    "Allows you to define the behaviour of operator(+,-,*,etc.) for custom objects. You achieve this by overrriding specific magic methods in your class."
   ]
  },
  {
   "cell_type": "code",
   "execution_count": 1,
   "id": "7538ae22",
   "metadata": {},
   "outputs": [
    {
     "data": {
      "text/plain": [
       "'\\n__add__(self, other): Adds two objects using the + operator.\\n__sub__(self, other): Subtracts two objects using the - operator.\\n__mul__(self, other): Multiplies two objects using the * operator.\\n__truediv__(self, other): Divides two objects using the / operator.\\n__eq__(self, other): Checks if two objects are equal using the == operator.\\n__lt__(self, other): Checks if one object is less than another using the < operator.\\n'"
      ]
     },
     "execution_count": 1,
     "metadata": {},
     "output_type": "execute_result"
    }
   ],
   "source": [
    "### Common Operator overloading Magic methods\n",
    "'''\n",
    "__add__(self, other): Adds two objects using the + operator.\n",
    "__sub__(self, other): Subtracts two objects using the - operator.\n",
    "__mul__(self, other): Multiplies two objects using the * operator.\n",
    "__truediv__(self, other): Divides two objects using the / operator.\n",
    "__eq__(self, other): Checks if two objects are equal using the == operator.\n",
    "__lt__(self, other): Checks if one object is less than another using the < operator.\n",
    "'''\t"
   ]
  },
  {
   "cell_type": "code",
   "execution_count": 5,
   "id": "8786399a",
   "metadata": {},
   "outputs": [
    {
     "name": "stdout",
     "output_type": "stream",
     "text": [
      "Vector(6, 8)\n",
      "Vector(-2, -2)\n",
      "Vector(6, 9)\n"
     ]
    }
   ],
   "source": [
    "class Vector:\n",
    "    def __init__(self, x, y):\n",
    "        self.x = x\n",
    "        self.y = y  \n",
    "    \n",
    "    def __add__(self, other):\n",
    "        return Vector(self.x + other.x, self.y + other.y)\n",
    "    \n",
    "    def __sub__(self, other):\n",
    "        return Vector(self.x - other.x, self.y - other.y)\n",
    "    \n",
    "    def __mul__(self, scalar):\n",
    "        return Vector(self.x * scalar, self.y * scalar)\n",
    "    \n",
    "    def __eq__(self, value):\n",
    "        return self.x == value.x and self.y == value.y\n",
    "    \n",
    "    def __repr__(self):\n",
    "        return f\"Vector({self.x}, {self.y})\"\n",
    "\n",
    "# Create objects of the vector class\n",
    "v1 = Vector(2, 3)\n",
    "v2 = Vector(4, 5)\n",
    "\n",
    "print(v1 + v2)  # Vector(6, 8)\n",
    "print(v1 - v2)  # Vector(-2, -2)\n",
    "print(v1 * 3)   # Vector(6, 9)"
   ]
  },
  {
   "cell_type": "code",
   "execution_count": 7,
   "id": "b684f615",
   "metadata": {},
   "outputs": [
    {
     "name": "stdout",
     "output_type": "stream",
     "text": [
      "ComplexNumber(4, 6)\n",
      "ComplexNumber(-2, -2)\n",
      "ComplexNumber(-5, 10)\n",
      "ComplexNumber(0.44, 0.08)\n",
      "False\n"
     ]
    },
    {
     "ename": "TypeError",
     "evalue": "'<' not supported between instances of 'ComplexNumber' and 'ComplexNumber'",
     "output_type": "error",
     "traceback": [
      "\u001b[31m---------------------------------------------------------------------------\u001b[39m",
      "\u001b[31mTypeError\u001b[39m                                 Traceback (most recent call last)",
      "\u001b[36mCell\u001b[39m\u001b[36m \u001b[39m\u001b[32mIn[7]\u001b[39m\u001b[32m, line 42\u001b[39m\n\u001b[32m     40\u001b[39m \u001b[38;5;28mprint\u001b[39m(c1 == c2)  \u001b[38;5;66;03m# False\u001b[39;00m\n\u001b[32m     41\u001b[39m \u001b[38;5;66;03m# Less than check\u001b[39;00m\n\u001b[32m---> \u001b[39m\u001b[32m42\u001b[39m \u001b[38;5;28mprint\u001b[39m(\u001b[43mc1\u001b[49m\u001b[43m \u001b[49m\u001b[43m<\u001b[49m\u001b[43m \u001b[49m\u001b[43mc2\u001b[49m)  \u001b[38;5;66;03m# Not implemented, will raise an error if used\u001b[39;00m\n\u001b[32m     43\u001b[39m \u001b[38;5;28;01mdef\u001b[39;00m\u001b[38;5;250m \u001b[39m\u001b[34m__lt__\u001b[39m(\u001b[38;5;28mself\u001b[39m, other):\n\u001b[32m     44\u001b[39m     \u001b[38;5;28;01mreturn\u001b[39;00m (\u001b[38;5;28mself\u001b[39m.real, \u001b[38;5;28mself\u001b[39m.imag) < (other.real, other.imag)    \n",
      "\u001b[31mTypeError\u001b[39m: '<' not supported between instances of 'ComplexNumber' and 'ComplexNumber'"
     ]
    }
   ],
   "source": [
    "### Overloading Operators for complex numbers\n",
    "\n",
    "class ComplexNumber:\n",
    "    def __init__(self, real, imag):\n",
    "        self.real = real\n",
    "        self.imag = imag\n",
    "    \n",
    "    def __add__(self, other):\n",
    "        return ComplexNumber(self.real + other.real, self.imag + other.imag)\n",
    "    \n",
    "    def __sub__(self, other):\n",
    "        return ComplexNumber(self.real - other.real, self.imag - other.imag)\n",
    "    \n",
    "    def __mul__(self, other):\n",
    "        return ComplexNumber(self.real * other.real - self.imag * other.imag,\n",
    "                             self.real * other.imag + self.imag * other.real)\n",
    "    \n",
    "    def __truediv__(self, other):\n",
    "        denom = other.real**2 + other.imag**2\n",
    "        return ComplexNumber((self.real * other.real + self.imag * other.imag) / denom,\n",
    "                             (self.imag * other.real - self.real * other.imag) / denom)\n",
    "    \n",
    "    def __repr__(self):\n",
    "        return f\"ComplexNumber({self.real}, {self.imag})\"\n",
    "    \n",
    "# Create objects of the complex number class\n",
    "c1 = ComplexNumber(1, 2)\n",
    "c2 = ComplexNumber(3, 4)\n",
    "\n",
    "# Use overload operators\n",
    "# Addition\n",
    "print(c1 + c2)  # ComplexNumber(4, 6)\n",
    "# Subtraction\n",
    "print(c1 - c2)  # ComplexNumber(-2, -2)\n",
    "# Multiplication\n",
    "print(c1 * c2)  # ComplexNumber(-5, 10)\n",
    "# Division\n",
    "print(c1 / c2)  # ComplexNumber(0.44, 0.08)\n",
    "# Equality check\n",
    "print(c1 == c2)  # False\n",
    "# Less than check\n",
    "print(c1 < c2)  # Not implemented, will raise an error if used\n",
    "def __lt__(self, other):\n",
    "    return (self.real, self.imag) < (other.real, other.imag)    "
   ]
  },
  {
   "cell_type": "code",
   "execution_count": null,
   "id": "f331ddea",
   "metadata": {},
   "outputs": [],
   "source": []
  }
 ],
 "metadata": {
  "kernelspec": {
   "display_name": "Python 3",
   "language": "python",
   "name": "python3"
  },
  "language_info": {
   "codemirror_mode": {
    "name": "ipython",
    "version": 3
   },
   "file_extension": ".py",
   "mimetype": "text/x-python",
   "name": "python",
   "nbconvert_exporter": "python",
   "pygments_lexer": "ipython3",
   "version": "3.12.0"
  }
 },
 "nbformat": 4,
 "nbformat_minor": 5
}
