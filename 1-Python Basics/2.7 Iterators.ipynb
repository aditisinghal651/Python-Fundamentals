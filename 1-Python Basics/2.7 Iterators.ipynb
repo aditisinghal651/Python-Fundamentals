{
 "cells": [
  {
   "cell_type": "markdown",
   "id": "3be3b177",
   "metadata": {},
   "source": [
    "### Iterators\n",
    "Iterators are advanced Python concepts that allow for efficient looping and memory management. Iterators provide a way to access elements of a collection sequentially without exposing the underlying structure."
   ]
  },
  {
   "cell_type": "code",
   "execution_count": null,
   "id": "cfb5e149",
   "metadata": {},
   "outputs": [
    {
     "name": "stdout",
     "output_type": "stream",
     "text": [
      "1\n",
      "2\n",
      "3\n",
      "4\n",
      "5\n",
      "6\n"
     ]
    }
   ],
   "source": [
    "my_list=[1,2,3,4,5,6]\n",
    "\n",
    "for i in my_list:    \n",
    "    print(i)"
   ]
  },
  {
   "cell_type": "code",
   "execution_count": 11,
   "id": "89aef681",
   "metadata": {},
   "outputs": [
    {
     "data": {
      "text/plain": [
       "list"
      ]
     },
     "execution_count": 11,
     "metadata": {},
     "output_type": "execute_result"
    }
   ],
   "source": [
    "type(my_list)"
   ]
  },
  {
   "cell_type": "code",
   "execution_count": 12,
   "id": "71c43e4e",
   "metadata": {},
   "outputs": [
    {
     "name": "stdout",
     "output_type": "stream",
     "text": [
      "<class 'list_iterator'>\n"
     ]
    }
   ],
   "source": [
    "### Iterator\n",
    "my_iter=iter(my_list)\n",
    "print(type(my_iter))"
   ]
  },
  {
   "cell_type": "code",
   "execution_count": 13,
   "id": "8b1b1906",
   "metadata": {},
   "outputs": [
    {
     "name": "stdout",
     "output_type": "stream",
     "text": [
      "1\n"
     ]
    },
    {
     "data": {
      "text/plain": [
       "2"
      ]
     },
     "execution_count": 13,
     "metadata": {},
     "output_type": "execute_result"
    }
   ],
   "source": [
    "## Iterator through all the elements\n",
    "\n",
    "print(next(my_iter))  # prints 1\n",
    "next(my_iter)  # prints 2\n"
   ]
  },
  {
   "cell_type": "code",
   "execution_count": 18,
   "id": "e0bf4276",
   "metadata": {},
   "outputs": [
    {
     "name": "stdout",
     "output_type": "stream",
     "text": [
      "Reached the end of the iterator.\n"
     ]
    }
   ],
   "source": [
    "## Implementing a exception for StopIteration\n",
    "try:\n",
    "    print(next(my_iter))  # prints 3\n",
    "except StopIteration:\n",
    "    print(\"Reached the end of the iterator.\")"
   ]
  },
  {
   "cell_type": "markdown",
   "id": "0f8cf4c0",
   "metadata": {},
   "source": [
    "#### String Iterator"
   ]
  },
  {
   "cell_type": "code",
   "execution_count": 20,
   "id": "ef0dd308",
   "metadata": {},
   "outputs": [
    {
     "name": "stdout",
     "output_type": "stream",
     "text": [
      "H\n",
      "H\n",
      "e\n"
     ]
    }
   ],
   "source": [
    "my_string = \"Hello, World!\"\n",
    "string_iter = iter(my_string)\n",
    "string_iter2 = iter(my_string)\n",
    "\n",
    "print(next(string_iter))  # prints 'H'\n",
    "print(next(string_iter2))  # prints 'H'\n",
    "print(next(string_iter))  # prints 'e'"
   ]
  },
  {
   "cell_type": "code",
   "execution_count": null,
   "id": "a621dcf1",
   "metadata": {},
   "outputs": [],
   "source": []
  }
 ],
 "metadata": {
  "kernelspec": {
   "display_name": "Python 3",
   "language": "python",
   "name": "python3"
  },
  "language_info": {
   "codemirror_mode": {
    "name": "ipython",
    "version": 3
   },
   "file_extension": ".py",
   "mimetype": "text/x-python",
   "name": "python",
   "nbconvert_exporter": "python",
   "pygments_lexer": "ipython3",
   "version": "3.12.0"
  }
 },
 "nbformat": 4,
 "nbformat_minor": 5
}
