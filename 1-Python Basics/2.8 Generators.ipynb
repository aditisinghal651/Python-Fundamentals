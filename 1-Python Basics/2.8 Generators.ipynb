{
 "cells": [
  {
   "cell_type": "markdown",
   "id": "137518e3",
   "metadata": {},
   "source": [
    "### Generators\n",
    "\n",
    "Generators are simpler way to create iterators. They use the yield keyword to produce a series of values lazily, which means they generate values on the fly and do not store them in memory."
   ]
  },
  {
   "cell_type": "code",
   "execution_count": 23,
   "id": "5f2e578a",
   "metadata": {},
   "outputs": [],
   "source": [
    "def sqaure(n):\n",
    "    for i in range(3):\n",
    "        yield i ** 2"
   ]
  },
  {
   "cell_type": "code",
   "execution_count": 24,
   "id": "2f642ca7",
   "metadata": {},
   "outputs": [
    {
     "data": {
      "text/plain": [
       "<generator object sqaure at 0x000001F2330612F0>"
      ]
     },
     "execution_count": 24,
     "metadata": {},
     "output_type": "execute_result"
    }
   ],
   "source": [
    "sqaure(3)"
   ]
  },
  {
   "cell_type": "code",
   "execution_count": 25,
   "id": "52bd8777",
   "metadata": {},
   "outputs": [
    {
     "name": "stdout",
     "output_type": "stream",
     "text": [
      "0\n",
      "1\n",
      "4\n"
     ]
    }
   ],
   "source": [
    "for i in sqaure(3):\n",
    "    print(i)   "
   ]
  },
  {
   "cell_type": "code",
   "execution_count": 26,
   "id": "7f184516",
   "metadata": {},
   "outputs": [
    {
     "data": {
      "text/plain": [
       "<generator object sqaure at 0x000001F233060930>"
      ]
     },
     "execution_count": 26,
     "metadata": {},
     "output_type": "execute_result"
    }
   ],
   "source": [
    "a = sqaure(3)\n",
    "a"
   ]
  },
  {
   "cell_type": "code",
   "execution_count": 27,
   "id": "7d4c4043",
   "metadata": {},
   "outputs": [
    {
     "data": {
      "text/plain": [
       "0"
      ]
     },
     "execution_count": 27,
     "metadata": {},
     "output_type": "execute_result"
    }
   ],
   "source": [
    "next(a)"
   ]
  },
  {
   "cell_type": "code",
   "execution_count": 28,
   "id": "fd654fc0",
   "metadata": {},
   "outputs": [],
   "source": [
    "def my_generator():\n",
    "    yield 1\n",
    "    yield 2\n",
    "    yield 3"
   ]
  },
  {
   "cell_type": "code",
   "execution_count": 29,
   "id": "d6a88e98",
   "metadata": {},
   "outputs": [
    {
     "data": {
      "text/plain": [
       "<generator object my_generator at 0x000001F232ABAAE0>"
      ]
     },
     "execution_count": 29,
     "metadata": {},
     "output_type": "execute_result"
    }
   ],
   "source": [
    "gen= my_generator()\n",
    "gen"
   ]
  },
  {
   "cell_type": "code",
   "execution_count": 30,
   "id": "142f9c78",
   "metadata": {},
   "outputs": [
    {
     "data": {
      "text/plain": [
       "1"
      ]
     },
     "execution_count": 30,
     "metadata": {},
     "output_type": "execute_result"
    }
   ],
   "source": [
    "next(gen)"
   ]
  },
  {
   "cell_type": "code",
   "execution_count": 31,
   "id": "7c6b7388",
   "metadata": {},
   "outputs": [
    {
     "name": "stdout",
     "output_type": "stream",
     "text": [
      "2\n",
      "3\n"
     ]
    }
   ],
   "source": [
    "for val in gen:\n",
    "    print(val)"
   ]
  },
  {
   "cell_type": "markdown",
   "id": "01ed0eeb",
   "metadata": {},
   "source": [
    "### Practical: Reading Large Files\n",
    "\n",
    "Generators are particularly useful for reading large files because they allow you to process one line at a time without loading the entire file into memory."
   ]
  },
  {
   "cell_type": "code",
   "execution_count": 32,
   "id": "d7bba79a",
   "metadata": {},
   "outputs": [],
   "source": [
    "def read_large_file(file_path):\n",
    "    with open(file_path, 'r') as file:\n",
    "        for line in file:\n",
    "            yield line.strip()"
   ]
  },
  {
   "cell_type": "code",
   "execution_count": 34,
   "id": "55a3bcdd",
   "metadata": {},
   "outputs": [
    {
     "name": "stdout",
     "output_type": "stream",
     "text": [
      "Python is a versatile, high-level, general-purpose programming language known for its readability and ease of use. It's used in various fields like web development, data science, machine learning, and software automation. Python's popularity stems from its beginner-friendliness, large community support, and extensive libraries.\n",
      "Here's a more detailed look at Python:\n",
      "Key Features:\n",
      "High-Level Language:\n",
      "Python is designed to be easy to read and write, using a syntax that resembles natural language.\n",
      "General-Purpose:\n",
      "It's not specialized for any particular task, making it adaptable to various applications.\n",
      "Object-Oriented:\n",
      "Python supports object-oriented programming, allowing for the creation of reusable code modules.\n",
      "Dynamic Typing:\n",
      "Variable types are determined at runtime, providing flexibility.\n",
      "Interpreted:\n",
      "Python code is executed line by line, allowing for rapid prototyping and debugging.\n",
      "Large Standard Library:\n",
      "Python comes with a comprehensive set of built-in modules and functions, simplifying development.\n",
      "Open Source:\n",
      "Python is free to use and distribute, fostering a vibrant community.\n",
      "Cross-Platform:\n",
      "Python can run on various operating systems like Windows, macOS, and Linux.\n",
      "Scalable:\n",
      "Python's design allows for building applications that can handle growing demands.\n",
      "Common Uses:\n",
      "Web Development: Python is used with frameworks like Django and Flask to create web applications.\n",
      "Data Science and Machine Learning: Python is popular in these fields due to its powerful libraries like NumPy, Pandas, and Scikit-learn.\n",
      "Software Automation: Python scripts can automate repetitive tasks, making development processes more efficient.\n",
      "Scripting: Python can be used as a scripting language to connect different software components.\n",
      "Game Development: Python can be used for game development with frameworks like Pygame.\n",
      "Data Analysis: Python is used for data analysis, visualization, and statistical analysis.\n",
      "Learning Python:\n",
      "Beginner-Friendly:\n",
      "Python's syntax is relatively easy to learn, making it an excellent language for beginners.\n",
      "Numerous Resources:\n",
      "There are numerous online resources, tutorials, and courses available to help you learn Python.\n",
      "Active Community:\n",
      "Python has a large and active community that provides support and assistance to learners.\n",
      "In summary, Python is a powerful and versatile programming language suitable for a wide range of applications, especially for beginners and those interested in data science and machine learning.\n"
     ]
    }
   ],
   "source": [
    "file_path = 'largeFile.txt'  # Replace with your file path\n",
    "for line in read_large_file(file_path):\n",
    "    print(line) "
   ]
  },
  {
   "cell_type": "code",
   "execution_count": null,
   "id": "7cde1629",
   "metadata": {},
   "outputs": [],
   "source": []
  }
 ],
 "metadata": {
  "kernelspec": {
   "display_name": "Python 3",
   "language": "python",
   "name": "python3"
  },
  "language_info": {
   "codemirror_mode": {
    "name": "ipython",
    "version": 3
   },
   "file_extension": ".py",
   "mimetype": "text/x-python",
   "name": "python",
   "nbconvert_exporter": "python",
   "pygments_lexer": "ipython3",
   "version": "3.12.0"
  }
 },
 "nbformat": 4,
 "nbformat_minor": 5
}
