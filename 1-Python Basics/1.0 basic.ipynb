{
 "cells": [
  {
   "cell_type": "markdown",
   "id": "74545f3a",
   "metadata": {},
   "source": [
    "## Syntax and Semantics\n",
    "\n",
    "**Syntax - refers to the set of rules that defines the combinations of symbols that are considered to be correctly structured programs in a language. \n",
    "\n",
    "In simpler terms, Syntax is about the correct arrangement of words and symbols in a code.\n",
    "\n",
    "**Semantics - refers to the meaning or the interpretation of the symbols, characters, and commands in a language. It is about what the code is supposed to do when it runs.\n",
    "\n",
    "**Note: Python is case sensitive.**"
   ]
  },
  {
   "cell_type": "code",
   "execution_count": 2,
   "id": "dc7339e0",
   "metadata": {},
   "outputs": [],
   "source": [
    "name = 'Aditi'\n",
    "Name = 'Singhal'\n",
    "\n",
    "#both the variables are different identifiers. As python is Case sensitive."
   ]
  },
  {
   "cell_type": "code",
   "execution_count": 3,
   "id": "e26441bc",
   "metadata": {},
   "outputs": [
    {
     "name": "stdout",
     "output_type": "stream",
     "text": [
      "Aditi\n",
      "Singhal\n"
     ]
    }
   ],
   "source": [
    "print(name)\n",
    "print(Name)"
   ]
  },
  {
   "cell_type": "markdown",
   "id": "02a260a7",
   "metadata": {},
   "source": [
    "## Indentation\n",
    "\n",
    "Used to define the structure and hierarchy of the code. Unlike many other languages that use braces {} to delimit blocks of code, python uses indentation to determine the grouping of statements. This means that all the statements within a block must be indented at the same level."
   ]
  },
  {
   "cell_type": "code",
   "execution_count": 10,
   "id": "21d930df",
   "metadata": {},
   "outputs": [
    {
     "name": "stdout",
     "output_type": "stream",
     "text": [
      "middle age 32\n",
      "something else??\n"
     ]
    }
   ],
   "source": [
    "age = 32\n",
    "if age > 30:\n",
    "    print(\"middle age \" + str(age))\n",
    "\n",
    "print(\"something else??\")"
   ]
  },
  {
   "cell_type": "code",
   "execution_count": 13,
   "id": "a790dbdd",
   "metadata": {},
   "outputs": [
    {
     "name": "stdout",
     "output_type": "stream",
     "text": [
      "hello world\n"
     ]
    }
   ],
   "source": [
    "# single line comment \n",
    "print(\"hello world\") # this is also a comment\n"
   ]
  },
  {
   "cell_type": "code",
   "execution_count": 14,
   "id": "2946b154",
   "metadata": {},
   "outputs": [
    {
     "name": "stdout",
     "output_type": "stream",
     "text": [
      "hello world\n"
     ]
    }
   ],
   "source": [
    "'''\n",
    "multi line comment\n",
    "multi line comment\n",
    "''' \n",
    "print(\"hello world\")\n",
    "# this is also a comment"
   ]
  },
  {
   "cell_type": "code",
   "execution_count": 15,
   "id": "1f34db14",
   "metadata": {},
   "outputs": [
    {
     "name": "stdout",
     "output_type": "stream",
     "text": [
      "210\n"
     ]
    }
   ],
   "source": [
    "# Line continuation\n",
    "# if the line is too long, you can use \\ to continue on the next line\n",
    "print(1+2+3+4+5+6+7+8+9+10+\\\n",
    "    11+12+13+14+15+16+17+18+19+20)"
   ]
  },
  {
   "cell_type": "code",
   "execution_count": 16,
   "id": "cd880aec",
   "metadata": {},
   "outputs": [
    {
     "name": "stdout",
     "output_type": "stream",
     "text": [
      "15\n"
     ]
    }
   ],
   "source": [
    "#multi line statement on a single line\n",
    "x=5;y=10;z=x+y\n",
    "print(z)"
   ]
  },
  {
   "cell_type": "markdown",
   "id": "f25a0a06",
   "metadata": {},
   "source": [
    "### Semantics "
   ]
  },
  {
   "cell_type": "code",
   "execution_count": 17,
   "id": "ce860046",
   "metadata": {},
   "outputs": [],
   "source": [
    "# variable assignment\n",
    "x = 5 # x is an integer\n",
    "name = \"Aditi\" # name is a string"
   ]
  },
  {
   "cell_type": "code",
   "execution_count": null,
   "id": "4d0de742",
   "metadata": {},
   "outputs": [
    {
     "data": {
      "text/plain": [
       "int"
      ]
     },
     "execution_count": 20,
     "metadata": {},
     "output_type": "execute_result"
    }
   ],
   "source": [
    "type(x) # returns the type of x"
   ]
  },
  {
   "cell_type": "code",
   "execution_count": 19,
   "id": "596af19c",
   "metadata": {},
   "outputs": [
    {
     "data": {
      "text/plain": [
       "str"
      ]
     },
     "execution_count": 19,
     "metadata": {},
     "output_type": "execute_result"
    }
   ],
   "source": [
    "type(name) # returns the type of name"
   ]
  },
  {
   "cell_type": "markdown",
   "id": "c868e457",
   "metadata": {},
   "source": [
    "During the runtime you can change the type of the variable with different values"
   ]
  },
  {
   "cell_type": "code",
   "execution_count": 22,
   "id": "34df454c",
   "metadata": {},
   "outputs": [
    {
     "name": "stdout",
     "output_type": "stream",
     "text": [
      "<class 'int'>\n",
      "<class 'str'>\n"
     ]
    }
   ],
   "source": [
    "#Type Inference\n",
    "var = 5 # var is an integer\n",
    "print(type(var))\n",
    "var = \"Aditi\" # var is now a string\n",
    "print(type(var))\n",
    "#Python is dynamically typed, so you can change the type of a variable at any time\n"
   ]
  },
  {
   "cell_type": "markdown",
   "id": "4d8edf18",
   "metadata": {},
   "source": [
    "### Variables"
   ]
  },
  {
   "cell_type": "code",
   "execution_count": 24,
   "id": "df0ac7d1",
   "metadata": {},
   "outputs": [
    {
     "name": "stdout",
     "output_type": "stream",
     "text": [
      "age:  32\n",
      "5.5\n",
      "Aditi\n",
      "True\n"
     ]
    }
   ],
   "source": [
    "#declaring multiple variables\n",
    "age = 32\n",
    "height = 5.5\n",
    "name = \"Aditi\"\n",
    "is_student = True\n",
    "\n",
    "print(\"age: \",age)\n",
    "print(height)       \n",
    "print(name)\n",
    "print(is_student)"
   ]
  },
  {
   "cell_type": "markdown",
   "id": "e753a92d",
   "metadata": {},
   "source": [
    "### Naming Convention\n",
    "1. Should be case sensitive\n",
    "2. Must start with a letter or an '_' and contains letter, numbers and underscores\n",
    "3. Variables are case sensitive"
   ]
  },
  {
   "cell_type": "code",
   "execution_count": 29,
   "id": "a40f2219",
   "metadata": {},
   "outputs": [
    {
     "name": "stdout",
     "output_type": "stream",
     "text": [
      "5 <class 'int'>\n",
      "Hello <class 'str'>\n",
      "3.14 <class 'float'>\n"
     ]
    }
   ],
   "source": [
    "## Dynamic Typing\n",
    "## Pyth allows the type of a variable to change at runtime\n",
    "x = 5\n",
    "print(x, type(x)) # x is an integer\n",
    "x = \"Hello\"\n",
    "print(x, type(x)) # x is now a string\n",
    "x= 3.14\n",
    "print(x, type(x)) # x is now a float"
   ]
  },
  {
   "cell_type": "markdown",
   "id": "63a2c95c",
   "metadata": {},
   "source": [
    "#### Input"
   ]
  },
  {
   "cell_type": "code",
   "execution_count": 25,
   "id": "8039d99a",
   "metadata": {},
   "outputs": [
    {
     "name": "stdout",
     "output_type": "stream",
     "text": [
      "23 <class 'int'>\n"
     ]
    }
   ],
   "source": [
    "age = int(input(\"Enter your age: \"))\n",
    "print(age, type(age))"
   ]
  },
  {
   "cell_type": "code",
   "execution_count": 27,
   "id": "01164774",
   "metadata": {},
   "outputs": [
    {
     "name": "stdout",
     "output_type": "stream",
     "text": [
      "Product:  276.0\n"
     ]
    }
   ],
   "source": [
    "### Simple Calculator\n",
    "\n",
    "num1 = float(input(\"Enter first number: \"))\n",
    "num2 = float(input(\"Enter second number: \"))\n",
    "operation = input(\"Enter operation (+, -, *, /): \")\n",
    "if operation == \"+\":\n",
    "    result = num1 + num2\n",
    "    print(\"Sum: \", result)\n",
    "elif operation == \"-\":\n",
    "    result = num1 - num2\n",
    "    print(\"Difference: \", result)\n",
    "elif operation == \"*\":\n",
    "    result = num1 * num2\n",
    "    print(\"Product: \", result)\n",
    "elif operation == \"/\":\n",
    "    if num2 != 0:\n",
    "        result = num1 / num2\n",
    "        print(\"Quotient: \", result)\n",
    "    else:\n",
    "        result = \"Error: Division by zero\"\n",
    "\n",
    "else:\n",
    "    result = \"Error: Invalid operation\""
   ]
  },
  {
   "cell_type": "code",
   "execution_count": null,
   "id": "2dafc29c",
   "metadata": {},
   "outputs": [],
   "source": []
  }
 ],
 "metadata": {
  "kernelspec": {
   "display_name": "Python 3",
   "language": "python",
   "name": "python3"
  },
  "language_info": {
   "codemirror_mode": {
    "name": "ipython",
    "version": 3
   },
   "file_extension": ".py",
   "mimetype": "text/x-python",
   "name": "python",
   "nbconvert_exporter": "python",
   "pygments_lexer": "ipython3",
   "version": "3.12.0"
  }
 },
 "nbformat": 4,
 "nbformat_minor": 5
}
