{
 "cells": [
  {
   "cell_type": "markdown",
   "id": "490b1d7c",
   "metadata": {},
   "source": [
    "### Importing Modules in Python: Modules & Packages"
   ]
  },
  {
   "cell_type": "markdown",
   "id": "0b9c1869",
   "metadata": {},
   "source": [
    "Modules & Packages - Help organize and reuse the code."
   ]
  },
  {
   "cell_type": "code",
   "execution_count": 1,
   "id": "560fd81e",
   "metadata": {},
   "outputs": [
    {
     "name": "stdout",
     "output_type": "stream",
     "text": [
      "4.0\n",
      "3.141592653589793\n",
      "5.0\n"
     ]
    }
   ],
   "source": [
    "from math import sqrt, pi\n",
    "print(sqrt(16))\n",
    "print(pi)\n",
    "print(sqrt(25))"
   ]
  },
  {
   "cell_type": "code",
   "execution_count": 3,
   "id": "52cdaa0b",
   "metadata": {},
   "outputs": [
    {
     "name": "stdout",
     "output_type": "stream",
     "text": [
      "4.0\n",
      "3.141592653589793\n",
      "5.0\n"
     ]
    }
   ],
   "source": [
    "import numpy as np\n",
    "print(np.sqrt(16))\n",
    "print(np.pi)\n",
    "print(np.sqrt(25))"
   ]
  },
  {
   "cell_type": "code",
   "execution_count": 12,
   "id": "49c3f456",
   "metadata": {},
   "outputs": [
    {
     "name": "stdout",
     "output_type": "stream",
     "text": [
      "5\n"
     ]
    }
   ],
   "source": [
    "from package.maths import addition\n",
    "print(addition(2, 3))"
   ]
  },
  {
   "cell_type": "code",
   "execution_count": null,
   "id": "035c738c",
   "metadata": {},
   "outputs": [],
   "source": []
  }
 ],
 "metadata": {
  "kernelspec": {
   "display_name": "Python 3",
   "language": "python",
   "name": "python3"
  },
  "language_info": {
   "codemirror_mode": {
    "name": "ipython",
    "version": 3
   },
   "file_extension": ".py",
   "mimetype": "text/x-python",
   "name": "python",
   "nbconvert_exporter": "python",
   "pygments_lexer": "ipython3",
   "version": "3.12.0"
  }
 },
 "nbformat": 4,
 "nbformat_minor": 5
}
