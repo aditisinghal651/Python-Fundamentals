{
 "cells": [
  {
   "cell_type": "markdown",
   "id": "1b449f3c",
   "metadata": {},
   "source": [
    "### Operators"
   ]
  },
  {
   "cell_type": "code",
   "execution_count": 1,
   "id": "f0a6655b",
   "metadata": {},
   "outputs": [
    {
     "name": "stdout",
     "output_type": "stream",
     "text": [
      "30\n",
      "-10\n",
      "200\n",
      "0.5\n",
      "0\n",
      "10\n",
      "100000000000000000000\n",
      "3.1622776601683795\n",
      "2.154434690031884\n",
      "1.7782794100389228\n"
     ]
    }
   ],
   "source": [
    "## Arithemetic operations\n",
    "\n",
    "a = 10\n",
    "b= 20\n",
    "print(a+b) # addition\n",
    "print(a-b) # subtraction\n",
    "print(a*b) # multiplication\n",
    "print(a/b) # division\n",
    "print(a//b) # floor division\n",
    "print(a%b) # modulus\n",
    "print(a**b) # exponentiation\n",
    "print(a**0.5) # square root\n",
    "print(a**(1/3)) # cube root\n",
    "print(a**(1/4)) # fourth root\n"
   ]
  },
  {
   "cell_type": "code",
   "execution_count": null,
   "id": "45464745",
   "metadata": {},
   "outputs": [
    {
     "name": "stdout",
     "output_type": "stream",
     "text": [
      "False\n",
      "True\n",
      "False\n",
      "True\n",
      "False\n",
      "True\n"
     ]
    }
   ],
   "source": [
    "## Comparison operations\n",
    "\n",
    "a = 10\n",
    "b = 20\n",
    "print(a == b) # equal to\n",
    "print(a != b) # not equal to\n",
    "print(a > b) # greater than\n",
    "print(a < b) # less than\n",
    "print(a >= b) # greater than or equal to\n",
    "print(a <= b) # less than or equal to"
   ]
  },
  {
   "cell_type": "code",
   "execution_count": 3,
   "id": "ca07ec66",
   "metadata": {},
   "outputs": [
    {
     "name": "stdout",
     "output_type": "stream",
     "text": [
      "False\n",
      "True\n",
      "False\n"
     ]
    }
   ],
   "source": [
    "## Logical operations\n",
    "a = True\n",
    "b = False\n",
    "print(a and b) # logical AND\n",
    "print(a or b) # logical OR\n",
    "print(not a) # logical NOT\n"
   ]
  },
  {
   "cell_type": "markdown",
   "id": "7aac0bd3",
   "metadata": {},
   "source": [
    "### Conditional Statements (if, elif, else)"
   ]
  },
  {
   "cell_type": "code",
   "execution_count": 4,
   "id": "c3e892d0",
   "metadata": {},
   "outputs": [
    {
     "name": "stdout",
     "output_type": "stream",
     "text": [
      "You are eligible to vote.\n"
     ]
    }
   ],
   "source": [
    "## if statement\n",
    "\n",
    "age = 18\n",
    "\n",
    "if age >= 18:\n",
    "    print(\"You are eligible to vote.\")"
   ]
  },
  {
   "cell_type": "code",
   "execution_count": 5,
   "id": "8f0e5859",
   "metadata": {},
   "outputs": [
    {
     "name": "stdout",
     "output_type": "stream",
     "text": [
      "You are not eligible to vote.\n"
     ]
    }
   ],
   "source": [
    "# else statement\n",
    "age = 16\n",
    "if age >= 18:\n",
    "    print(\"You are eligible to vote.\")\n",
    "else:\n",
    "    print(\"You are not eligible to vote.\")"
   ]
  },
  {
   "cell_type": "code",
   "execution_count": 6,
   "id": "bb124dff",
   "metadata": {},
   "outputs": [
    {
     "name": "stdout",
     "output_type": "stream",
     "text": [
      "You are eligible to drive.\n"
     ]
    }
   ],
   "source": [
    "## elif statement\n",
    "age = 16\n",
    "if age >= 18:\n",
    "    print(\"You are eligible to vote.\")\n",
    "elif age >= 16:\n",
    "    print(\"You are eligible to drive.\")\n",
    "else:\n",
    "    print(\"You are not eligible to vote or drive.\")"
   ]
  },
  {
   "cell_type": "code",
   "execution_count": 10,
   "id": "3c4d7d81",
   "metadata": {},
   "outputs": [
    {
     "name": "stdout",
     "output_type": "stream",
     "text": [
      "The number is positive.\n",
      "The number is even.\n"
     ]
    }
   ],
   "source": [
    " ## Nested if statement\n",
    "\n",
    "num = int(input(\"Enter a number: \"))\n",
    "if num > 0:\n",
    "    print(\"The number is positive.\")\n",
    "    if num % 2 == 0:\n",
    "        print(\"The number is even.\")\n",
    "    else:\n",
    "        print(\"The number is odd.\")\n",
    "\n",
    "else:\n",
    "    print(\"The number is zero or negative.\")"
   ]
  },
  {
   "cell_type": "code",
   "execution_count": 12,
   "id": "36ac878e",
   "metadata": {},
   "outputs": [
    {
     "name": "stdout",
     "output_type": "stream",
     "text": [
      "2004 is a leap year.\n"
     ]
    }
   ],
   "source": [
    "## Example of if statement\n",
    "## check if a year is a leap year or not\n",
    "\n",
    "year = int(input(\"Enter the year: \"))\n",
    "if (year % 4 == 0 and year % 100 != 0) or (year % 400 == 0):\n",
    "    print(year, \"is a leap year.\")\n",
    "else:\n",
    "    print(year, \"is not a leap year.\")"
   ]
  },
  {
   "cell_type": "markdown",
   "id": "4999f96c",
   "metadata": {},
   "source": [
    "#### Assignment\n",
    "Q1. Determine the ticket price based on age and whether the person is a student\n",
    "\n",
    "Q2. Simple Calculator"
   ]
  },
  {
   "cell_type": "markdown",
   "id": "e6191e5f",
   "metadata": {},
   "source": []
  }
 ],
 "metadata": {
  "kernelspec": {
   "display_name": "Python 3",
   "language": "python",
   "name": "python3"
  },
  "language_info": {
   "codemirror_mode": {
    "name": "ipython",
    "version": 3
   },
   "file_extension": ".py",
   "mimetype": "text/x-python",
   "name": "python",
   "nbconvert_exporter": "python",
   "pygments_lexer": "ipython3",
   "version": "3.12.0"
  }
 },
 "nbformat": 4,
 "nbformat_minor": 5
}
